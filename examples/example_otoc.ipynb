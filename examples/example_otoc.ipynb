{
 "cells": [
  {
   "cell_type": "code",
   "execution_count": 1,
   "metadata": {},
   "outputs": [],
   "source": [
    "import numpy as np\n",
    "import matplotlib.pyplot as plt\n",
    "from IsingFF import IsingFFSolver, load_schedule\n"
   ]
  },
  {
   "cell_type": "code",
   "execution_count": 41,
   "metadata": {},
   "outputs": [
    {
     "name": "stdout",
     "output_type": "stream",
     "text": [
      "Diagonalizing initial Hamiltonian ...\n",
      "Calculating evolution operators ...\n"
     ]
    }
   ],
   "source": [
    "fX, fZZ = load_schedule(\"./qa_schedule_230429.txt\")\n",
    "solver = IsingFFSolver(N=64,\n",
    "                       J=-1,\n",
    "                       fX=fX,\n",
    "                       fZZ=fZZ,\n",
    "                       boundary='obc',\n",
    "                       tau=7.0,\n",
    "                       snapshots=[0, 1])"
   ]
  },
  {
   "cell_type": "code",
   "execution_count": 4,
   "metadata": {},
   "outputs": [
    {
     "data": {
      "text/plain": [
       "0.11745966977940081"
      ]
     },
     "execution_count": 4,
     "metadata": {},
     "output_type": "execute_result"
    }
   ],
   "source": [
    "# kink density in the middle of the chainat s=1.0\n",
    "(1 - solver2.zz_nn(31, 1.0)) / 2"
   ]
  },
  {
   "cell_type": "code",
   "execution_count": 42,
   "metadata": {},
   "outputs": [],
   "source": [
    "ee2 = [solver.xxxx(15, 1, 15+r, 0, 15, 1, 15+r, 0) for r in range(33)]"
   ]
  },
  {
   "cell_type": "code",
   "execution_count": 43,
   "metadata": {},
   "outputs": [
    {
     "data": {
      "text/plain": [
       "[0.8380143262077205,\n",
       " 0.9549332920310557,\n",
       " 0.8161743866494442,\n",
       " 0.9925815056642664,\n",
       " 0.8373702499480744,\n",
       " 0.8642746895556473,\n",
       " 0.9714291633537917,\n",
       " 0.8180769894242971,\n",
       " 0.6213594285233669,\n",
       " 0.659213613599546,\n",
       " 0.807783474791932,\n",
       " 0.931069552719301,\n",
       " 0.9806093049760509,\n",
       " 0.9961652916795027,\n",
       " 0.9993575941349621,\n",
       " 0.9999161887528806,\n",
       " 0.9999910685102527,\n",
       " 0.9999991417840022,\n",
       " 0.9999999374550887,\n",
       " 0.9999999955382963,\n",
       " 0.9999999997465158,\n",
       " 0.9999999999873279,\n",
       " 0.999999999999407,\n",
       " 0.9999999999999994,\n",
       " 1.0000000000000213,\n",
       " 1.000000000000022,\n",
       " 1.000000000000025,\n",
       " 1.0000000000000233,\n",
       " 1.0000000000000204,\n",
       " 1.0000000000000218,\n",
       " 1.0000000000000229,\n",
       " 1.0000000000000218,\n",
       " 1.0000000000000238]"
      ]
     },
     "execution_count": 43,
     "metadata": {},
     "output_type": "execute_result"
    }
   ],
   "source": [
    "ee2"
   ]
  },
  {
   "cell_type": "code",
   "execution_count": 46,
   "metadata": {},
   "outputs": [
    {
     "data": {
      "text/plain": [
       "[0.1837838754533174,\n",
       " 0.2425388825964498,\n",
       " 0.16243973643670925,\n",
       " 0.22245707637119255,\n",
       " 0.09565466875172787,\n",
       " 0.2433061436429534,\n",
       " 0.25761172326558407,\n",
       " 0.29279953415193744,\n",
       " 0.5001569079029418,\n",
       " 0.7597924599939326,\n",
       " 0.918578414423818,\n",
       " 0.9794177366904503,\n",
       " 0.9958493726023208,\n",
       " 0.9993411192565699,\n",
       " 0.9999150722505007,\n",
       " 0.9999907643587933,\n",
       " 0.9999991609286809,\n",
       " 0.9999999351122649,\n",
       " 0.9999999956325646,\n",
       " 0.9999999997456024,\n",
       " 0.9999999999871994,\n",
       " 0.999999999999609,\n",
       " 1.000000000000173,\n",
       " 1.0000000000002003,\n",
       " 1.0000000000002005,\n",
       " 1.000000000000198,\n",
       " 1.0000000000001965,\n",
       " 1.0000000000001965,\n",
       " 1.000000000000196,\n",
       " 1.000000000000196,\n",
       " 1.0000000000001925,\n",
       " 1.0000000000001943,\n",
       " 1.0000000000001965]"
      ]
     },
     "execution_count": 46,
     "metadata": {},
     "output_type": "execute_result"
    }
   ],
   "source": [
    "[solver.zzzz(10,1, r+10, 0, 10,1, r+10, 0) for r in range(33)]"
   ]
  },
  {
   "cell_type": "code",
   "execution_count": 24,
   "metadata": {},
   "outputs": [
    {
     "data": {
      "text/plain": [
       "0.32286726776663033"
      ]
     },
     "execution_count": 24,
     "metadata": {},
     "output_type": "execute_result"
    }
   ],
   "source": [
    "solver.xx(0,1, 63, 1)"
   ]
  },
  {
   "cell_type": "code",
   "execution_count": 16,
   "metadata": {},
   "outputs": [
    {
     "data": {
      "text/plain": [
       "0.7650806604412024"
      ]
     },
     "execution_count": 16,
     "metadata": {},
     "output_type": "execute_result"
    }
   ],
   "source": [
    "solver.zz_nn(31,1)"
   ]
  },
  {
   "cell_type": "code",
   "execution_count": 11,
   "metadata": {},
   "outputs": [
    {
     "data": {
      "text/plain": [
       "0.010061272360500745"
      ]
     },
     "execution_count": 11,
     "metadata": {},
     "output_type": "execute_result"
    }
   ],
   "source": [
    "solver.zz_nn(32,0)"
   ]
  },
  {
   "cell_type": "code",
   "execution_count": 14,
   "metadata": {},
   "outputs": [
    {
     "data": {
      "text/plain": [
       "0.11745966977939881"
      ]
     },
     "execution_count": 14,
     "metadata": {},
     "output_type": "execute_result"
    }
   ],
   "source": [
    "(1-solver.zz_nn(31,1))/2"
   ]
  }
 ],
 "metadata": {
  "kernelspec": {
   "display_name": "pt",
   "language": "python",
   "name": "python3"
  },
  "language_info": {
   "codemirror_mode": {
    "name": "ipython",
    "version": 3
   },
   "file_extension": ".py",
   "mimetype": "text/x-python",
   "name": "python",
   "nbconvert_exporter": "python",
   "pygments_lexer": "ipython3",
   "version": "3.11.5"
  }
 },
 "nbformat": 4,
 "nbformat_minor": 2
}
